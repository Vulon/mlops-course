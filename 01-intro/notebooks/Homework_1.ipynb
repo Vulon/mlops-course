{
 "cells": [
  {
   "cell_type": "code",
   "execution_count": 1,
   "id": "54c52ba3",
   "metadata": {},
   "outputs": [],
   "source": [
    "import pandas as pd\n",
    "import os, sys\n",
    "import numpy as np\n",
    "import matplotlib.pyplot as plt\n",
    "from sklearn.impute import SimpleImputer\n",
    "from sklearn.pipeline import Pipeline\n",
    "from sklearn.linear_model import LinearRegression\n",
    "from sklearn.metrics import mean_squared_error"
   ]
  },
  {
   "cell_type": "code",
   "execution_count": 2,
   "id": "82c7f28f",
   "metadata": {},
   "outputs": [
    {
     "name": "stdout",
     "output_type": "stream",
     "text": [
      "files ['fhv_tripdata_2021-01.parquet', 'fhv_tripdata_2021-02.parquet']\n"
     ]
    }
   ],
   "source": [
    "DATA_PATH = \"../data/raw\"\n",
    "PROJECT_BASEPATH = os.path.dirname(os.getcwd()) \n",
    "sys.path.append(PROJECT_BASEPATH)\n",
    "\n",
    "# Custom data transformers from local module\n",
    "from data_preparation.custom_transformers import DurationTransformer, DurationOutlierRemover, IdImputer, OneHotEncoder\n",
    "\n",
    "print(\"files\", os.listdir(DATA_PATH))\n",
    "train_data = pd.read_parquet(os.path.join(DATA_PATH, \"fhv_tripdata_2021-01.parquet\"))\n",
    "val_data = pd.read_parquet(os.path.join(DATA_PATH, \"fhv_tripdata_2021-02.parquet\"))"
   ]
  },
  {
   "cell_type": "markdown",
   "id": "05a17e6a",
   "metadata": {},
   "source": [
    "# Q1. Downloading the data"
   ]
  },
  {
   "cell_type": "code",
   "execution_count": 3,
   "id": "036b056d",
   "metadata": {},
   "outputs": [
    {
     "name": "stdout",
     "output_type": "stream",
     "text": [
      "1154112\n"
     ]
    }
   ],
   "source": [
    "Q1 = train_data.shape[0]\n",
    "print(Q1)"
   ]
  },
  {
   "cell_type": "markdown",
   "id": "75255ddf",
   "metadata": {},
   "source": [
    "# Q2. Computing duration"
   ]
  },
  {
   "cell_type": "code",
   "execution_count": 4,
   "id": "a05bb893",
   "metadata": {},
   "outputs": [
    {
     "name": "stdout",
     "output_type": "stream",
     "text": [
      "19.167224093791006\n",
      "Removed 44286 rows\n"
     ]
    },
    {
     "data": {
      "text/plain": [
       "<AxesSubplot:>"
      ]
     },
     "execution_count": 4,
     "metadata": {},
     "output_type": "execute_result"
    },
    {
     "data": {
      "image/png": "[encoded data removed]",
      "text/plain": [
       "<Figure size 432x288 with 1 Axes>"
      ]
     },
     "metadata": {
      "needs_background": "light"
     },
     "output_type": "display_data"
    }
   ],
   "source": [
    "\n",
    "duration_transformer = DurationTransformer().fit()\n",
    "outlier_transformer = DurationOutlierRemover(verbose=True, min_value=1, max_value=60)\n",
    "train_data_cleaned = duration_transformer.transform(train_data)\n",
    "Q2 = train_data_cleaned['duration'].mean()\n",
    "print(Q2)\n",
    "train_data_cleaned, Y = outlier_transformer.transform(train_data_cleaned)\n",
    "train_data_cleaned['duration'].hist()"
   ]
  },
  {
   "cell_type": "markdown",
   "id": "2641b6c2",
   "metadata": {},
   "source": [
    "# Q3. Missing values"
   ]
  },
  {
   "cell_type": "code",
   "execution_count": 5,
   "id": "5de74fe7",
   "metadata": {},
   "outputs": [
    {
     "name": "stdout",
     "output_type": "stream",
     "text": [
      "0.8352732770722617\n"
     ]
    }
   ],
   "source": [
    "impute_transformer = IdImputer([\"PUlocationID\", \"DOlocationID\"], -1)\n",
    "train_data_cleaned = impute_transformer.transform(train_data_cleaned)\n",
    "missing_count = train_data_cleaned.loc[train_data_cleaned['PUlocationID'] == -1.0].shape[0]\n",
    "Q3 = missing_count / train_data_cleaned.shape[0]\n",
    "print(Q3)"
   ]
  },
  {
   "cell_type": "markdown",
   "id": "d17a1a10",
   "metadata": {},
   "source": [
    "# Q4. One-hot encoding"
   ]
  },
  {
   "cell_type": "code",
   "execution_count": 6,
   "id": "693cbf11",
   "metadata": {},
   "outputs": [
    {
     "name": "stdout",
     "output_type": "stream",
     "text": [
      "525\n"
     ]
    }
   ],
   "source": [
    "one_hot_transformer = OneHotEncoder([\"PUlocationID\", \"DOlocationID\"])\n",
    "one_hot_transformer.fit(train_data_cleaned)\n",
    "train_array = one_hot_transformer.transform(train_data_cleaned)\n",
    "Q4 = train_array.shape[1]\n",
    "print(Q4)"
   ]
  },
  {
   "cell_type": "markdown",
   "id": "630a4799",
   "metadata": {},
   "source": [
    "# Q5. Training a model"
   ]
  },
  {
   "cell_type": "code",
   "execution_count": 7,
   "id": "8f4e3a27",
   "metadata": {},
   "outputs": [],
   "source": [
    "target_pipeline = Pipeline([ \n",
    "    (\"duration\", DurationTransformer()),\n",
    "    (\"outlier\", DurationOutlierRemover(verbose=False, min_value=1, max_value=60)),\n",
    "])\n",
    "\n",
    "train_pipeline = Pipeline([ \n",
    "    (\"imputer\", IdImputer([\"PUlocationID\", \"DOlocationID\"], -1)),\n",
    "    (\"encoder\", OneHotEncoder([\"PUlocationID\", \"DOlocationID\"])),\n",
    "    (\"regression\", LinearRegression()),\n",
    "])"
   ]
  },
  {
   "cell_type": "code",
   "execution_count": 8,
   "id": "9cd27d10",
   "metadata": {},
   "outputs": [
    {
     "name": "stdout",
     "output_type": "stream",
     "text": [
      "10.528533522654985\n"
     ]
    }
   ],
   "source": [
    "X, Y = target_pipeline.fit_transform(train_data, None)\n",
    "train_pipeline.fit(X, Y)\n",
    "Y_hat = train_pipeline.predict(X).clip(1, 60)\n",
    "Q5 = mean_squared_error(Y, Y_hat, squared=False)\n",
    "print(Q5)"
   ]
  },
  {
   "cell_type": "markdown",
   "id": "f9bd56d0",
   "metadata": {},
   "source": [
    "# Q6. Evaluating the model"
   ]
  },
  {
   "cell_type": "code",
   "execution_count": 9,
   "id": "6e40c2aa",
   "metadata": {},
   "outputs": [
    {
     "name": "stdout",
     "output_type": "stream",
     "text": [
      "11.014272665082515\n"
     ]
    }
   ],
   "source": [
    "X_val, Y_val = target_pipeline.transform(val_data)\n",
    "Y_val_hat = train_pipeline.predict(X_val).clip(1, 60)\n",
    "Q6 = mean_squared_error(Y_val, Y_val_hat, squared=False)\n",
    "print(Q6)"
   ]
  },
  {
   "cell_type": "code",
   "execution_count": 10,
   "id": "9bc5babc",
   "metadata": {},
   "outputs": [
    {
     "name": "stdout",
     "output_type": "stream",
     "text": [
      "Q1 1154112\n",
      "Q2 19.167224093791006\n",
      "Q3 0.8352732770722617\n",
      "Q4 525\n",
      "Q5 10.528533522654985\n",
      "Q6 11.014272665082515\n"
     ]
    }
   ],
   "source": [
    "print(\"Q1\", Q1)\n",
    "print(\"Q2\", Q2)\n",
    "print(\"Q3\", Q3)\n",
    "print(\"Q4\", Q4)\n",
    "print(\"Q5\", Q5)\n",
    "print(\"Q6\", Q6)"
   ]
  },
  {
   "cell_type": "code",
   "execution_count": null,
   "id": "78202256",
   "metadata": {},
   "outputs": [],
   "source": []
  }
 ],
 "metadata": {
  "kernelspec": {
   "display_name": "mlops",
   "language": "python",
   "name": "mlops"
  },
  "language_info": {
   "codemirror_mode": {
    "name": "ipython",
    "version": 3
   },
   "file_extension": ".py",
   "mimetype": "text/x-python",
   "name": "python",
   "nbconvert_exporter": "python",
   "pygments_lexer": "ipython3",
   "version": "3.8.8"
  }
 },
 "nbformat": 4,
 "nbformat_minor": 5
}
