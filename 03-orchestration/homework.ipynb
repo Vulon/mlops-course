{
 "cells": [
  {
   "cell_type": "code",
   "execution_count": null,
   "metadata": {},
   "outputs": [],
   "source": [
    "\n",
    "\n",
    "\n"
   ]
  },
  {
   "cell_type": "markdown",
   "metadata": {},
   "source": [
    "# Q1. Converting the script to a Prefect flow"
   ]
  },
  {
   "cell_type": "code",
   "execution_count": 1,
   "metadata": {},
   "outputs": [
    {
     "name": "stdout",
     "output_type": "stream",
     "text": [
      "Q1 answer train_model ; line: lr, dv = train_model(df_train_processed, categorical).result()\n"
     ]
    }
   ],
   "source": [
    "Q1 = \"train_model\"\n",
    "line = f\"lr, dv = {Q1}(df_train_processed, categorical).result()\"\n",
    "print(\"Q1 answer\", Q1, \"; line:\", line)"
   ]
  },
  {
   "cell_type": "markdown",
   "metadata": {},
   "source": [
    "# Q2. Parameterizing the flow"
   ]
  },
  {
   "cell_type": "code",
   "execution_count": 2,
   "metadata": {},
   "outputs": [
    {
     "name": "stdout",
     "output_type": "stream",
     "text": [
      "Q2 answer is 11.637023826050765\n"
     ]
    }
   ],
   "source": [
    "Q2 = 11.637023826050765\n",
    "print(\"Q2 answer is\", Q2)"
   ]
  },
  {
   "cell_type": "markdown",
   "metadata": {},
   "source": [
    "# Q3. Saving the model and artifacts"
   ]
  },
  {
   "cell_type": "code",
   "execution_count": 3,
   "metadata": {},
   "outputs": [
    {
     "name": "stdout",
     "output_type": "stream",
     "text": [
      "Vectorizer size 13191\n"
     ]
    }
   ],
   "source": [
    "import os \n",
    "Q3 = os.stat(\"data/binary/dv-2021-08-15.b\").st_size\n",
    "print(\"Vectorizer size\", Q3)"
   ]
  },
  {
   "cell_type": "markdown",
   "metadata": {},
   "source": [
    "# Q4. Creating a deployment with a CronSchedule"
   ]
  },
  {
   "cell_type": "code",
   "execution_count": 4,
   "metadata": {},
   "outputs": [
    {
     "name": "stdout",
     "output_type": "stream",
     "text": [
      "Cron schedule for 9 am each 15th day of month:  0 9 15 * *\n"
     ]
    }
   ],
   "source": [
    "Q4 = \"0 9 15 * *\"\n",
    "print(\"Cron schedule for 9 am each 15th day of month: \", Q4)"
   ]
  },
  {
   "cell_type": "markdown",
   "metadata": {},
   "source": [
    "# Q5. Viewing the Deployment"
   ]
  },
  {
   "cell_type": "code",
   "execution_count": 5,
   "metadata": {},
   "outputs": [
    {
     "name": "stdout",
     "output_type": "stream",
     "text": [
      "Upcoming Runs: 3\n"
     ]
    }
   ],
   "source": [
    "Q5 = 3\n",
    "print(\"Upcoming Runs:\", Q5)"
   ]
  },
  {
   "cell_type": "markdown",
   "metadata": {},
   "source": [
    "# Q6. Creating a work-queue"
   ]
  },
  {
   "cell_type": "code",
   "execution_count": 7,
   "metadata": {},
   "outputs": [
    {
     "name": "stdout",
     "output_type": "stream",
     "text": [
      "                               Work Queues                               \n",
      "┌──────────────────────────────────────┬────────────┬───────────────────┐\n",
      "│                                   ID │ Name       │ Concurrency Limit │\n",
      "├──────────────────────────────────────┼────────────┼───────────────────┤\n",
      "│ ea04638b-ee43-4299-8d43-66617ac6245b │ First-test │ None              │\n",
      "└──────────────────────────────────────┴────────────┴───────────────────┘\n",
      "                       (**) denotes a paused queue                       \n"
     ]
    }
   ],
   "source": [
    "Q6 = \"prefect work-queue ls\"\n",
    "!prefect work-queue ls"
   ]
  },
  {
   "cell_type": "code",
   "execution_count": 8,
   "metadata": {},
   "outputs": [
    {
     "name": "stdout",
     "output_type": "stream",
     "text": [
      "Q1 train_model\n",
      "Q2 11.637023826050765\n",
      "Q3 13191\n",
      "Q4 0 9 15 * *\n",
      "Q5 3\n",
      "Q6 prefect work-queue ls\n"
     ]
    }
   ],
   "source": [
    "print(\"Q1\", Q1)\n",
    "print(\"Q2\", Q2)\n",
    "print(\"Q3\", Q3)\n",
    "print(\"Q4\", Q4)\n",
    "print(\"Q5\", Q5)\n",
    "print(\"Q6\", Q6)"
   ]
  },
  {
   "cell_type": "code",
   "execution_count": null,
   "metadata": {},
   "outputs": [],
   "source": []
  }
 ],
 "metadata": {
  "interpreter": {
   "hash": "0dc0a185f615733f882c2e1c3521c9db19a9f3207ad5c099bb39bc5f150b7f3a"
  },
  "kernelspec": {
   "display_name": "Python 3.8.8 ('venv': venv)",
   "language": "python",
   "name": "python3"
  },
  "language_info": {
   "codemirror_mode": {
    "name": "ipython",
    "version": 3
   },
   "file_extension": ".py",
   "mimetype": "text/x-python",
   "name": "python",
   "nbconvert_exporter": "python",
   "pygments_lexer": "ipython3",
   "version": "3.8.8"
  },
  "orig_nbformat": 4
 },
 "nbformat": 4,
 "nbformat_minor": 2
}
