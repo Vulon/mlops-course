{
 "cells": [
  {
   "cell_type": "code",
   "execution_count": 1,
   "metadata": {},
   "outputs": [],
   "source": [
    "answers = dict()\n"
   ]
  },
  {
   "cell_type": "markdown",
   "metadata": {},
   "source": [
    "# Q1. Refactoring"
   ]
  },
  {
   "cell_type": "code",
   "execution_count": 2,
   "metadata": {},
   "outputs": [
    {
     "name": "stdout",
     "output_type": "stream",
     "text": [
      "Q1 if __name__ == \"__main__\":\n"
     ]
    }
   ],
   "source": [
    "answers[\"Q1\"] = 'if __name__ == \"__main__\":'\n",
    "print(\"Q1\", answers[\"Q1\"])"
   ]
  },
  {
   "cell_type": "markdown",
   "metadata": {},
   "source": [
    "# Q2. Installing pytest"
   ]
  },
  {
   "cell_type": "code",
   "execution_count": 3,
   "metadata": {},
   "outputs": [
    {
     "name": "stdout",
     "output_type": "stream",
     "text": [
      "Q2 __init__.py\n"
     ]
    }
   ],
   "source": [
    "answers[\"Q2\"] = '__init__.py'\n",
    "print(\"Q2\", answers[\"Q2\"])"
   ]
  },
  {
   "cell_type": "markdown",
   "metadata": {},
   "source": [
    "# Q3. Writing first unit test"
   ]
  },
  {
   "cell_type": "code",
   "execution_count": 4,
   "metadata": {},
   "outputs": [
    {
     "name": "stdout",
     "output_type": "stream",
     "text": [
      "Q3 2\n"
     ]
    }
   ],
   "source": [
    "answers[\"Q3\"] = '2'\n",
    "print(\"Q3\", answers[\"Q3\"])"
   ]
  },
  {
   "cell_type": "markdown",
   "metadata": {},
   "source": [
    "# Q4. Mocking S3 with Localstack"
   ]
  },
  {
   "cell_type": "code",
   "execution_count": 5,
   "metadata": {},
   "outputs": [
    {
     "name": "stdout",
     "output_type": "stream",
     "text": [
      "Q4 aws s3 mb --endpoint-url=http://localhost:4566 s3://nyc-duration\n"
     ]
    }
   ],
   "source": [
    "answers[\"Q4\"] = 'aws s3 mb --endpoint-url=http://localhost:4566 s3://nyc-duration'\n",
    "print(\"Q4\", answers[\"Q4\"])"
   ]
  },
  {
   "cell_type": "markdown",
   "metadata": {},
   "source": [
    "Shell:<p>\n",
    "docker-compose up -d <p>\n",
    "aws s3 mb s3://nyc-duration --endpoint-url=http://localhost:4566<p>\n",
    "aws s3 cp C:/PythonProjects/mlops-course/06-best-practices/data/in --endpoint-url=http://localhost:4566 s3://nyc-duration/in --recursive<p>\n",
    "\n",
    "$env:INPUT_FILE_PATTERN=\"s3://nyc-duration/in/fhv_tripdata_{year:04d}-{month:02d}.parquet\"<p>\n",
    "$env:OUTPUT_FILE_PATTERN=\"s3://nyc-duration/out/fhv_tripdata_{year:04d}-{month:02d}.parquet\"<p>\n",
    "$env:S3_ENDPOINT_URL=\"http://127.0.0.1:4566\"<p>\n",
    "\n",
    "python.exe .\\batch.py --year 2021 --month 1<p>\n",
    "\n",
    "\n",
    "aws s3 cp s3://nyc-duration/out C:/PythonProjects/mlops-course/06-best-practices/data/out --endpoint-url=http://localhost:4566  --recursive<p>"
   ]
  },
  {
   "cell_type": "markdown",
   "metadata": {},
   "source": [
    "# Q5. Creating test data"
   ]
  },
  {
   "cell_type": "code",
   "execution_count": 12,
   "metadata": {},
   "outputs": [
    {
     "name": "stdout",
     "output_type": "stream",
     "text": [
      "Q5 21690 kb\n"
     ]
    }
   ],
   "source": [
    "import os\n",
    "answers[\"Q5\"] = os.stat(r\"C:\\PythonProjects\\mlops-course\\06-best-practices\\data\\out\\fhv_tripdata_2021-01.parquet\").st_size //1024\n",
    "print(\"Q5\", answers[\"Q5\"], \"kb\")"
   ]
  },
  {
   "cell_type": "markdown",
   "metadata": {},
   "source": [
    "# Q6. Finish the integration test"
   ]
  },
  {
   "cell_type": "code",
   "execution_count": 13,
   "metadata": {},
   "outputs": [],
   "source": [
    "import pandas as pd\n",
    "import pyarrow"
   ]
  },
  {
   "cell_type": "code",
   "execution_count": 16,
   "metadata": {},
   "outputs": [
    {
     "name": "stdout",
     "output_type": "stream",
     "text": [
      "Q6 18031624.216666654\n"
     ]
    }
   ],
   "source": [
    "answers[\"Q6\"] = pd.read_parquet(r\"C:\\PythonProjects\\mlops-course\\06-best-practices\\data\\out\\fhv_tripdata_2021-01.parquet\")[\"predicted_duration\"].sum()\n",
    "print(\"Q6\", answers[\"Q6\"])"
   ]
  },
  {
   "cell_type": "code",
   "execution_count": 17,
   "metadata": {},
   "outputs": [
    {
     "name": "stdout",
     "output_type": "stream",
     "text": [
      "Q1 if __name__ == \"__main__\":\n",
      "Q2 __init__.py\n",
      "Q3 2\n",
      "Q4 aws s3 mb --endpoint-url=http://localhost:4566 s3://nyc-duration\n",
      "Q5 21690\n",
      "Q6 18031624.216666654\n"
     ]
    }
   ],
   "source": [
    "for key in answers.keys():\n",
    "    print(key, answers[key])"
   ]
  },
  {
   "cell_type": "code",
   "execution_count": null,
   "metadata": {},
   "outputs": [],
   "source": []
  }
 ],
 "metadata": {
  "kernelspec": {
   "display_name": "mlops6",
   "language": "python",
   "name": "mlops6"
  },
  "language_info": {
   "codemirror_mode": {
    "name": "ipython",
    "version": 3
   },
   "file_extension": ".py",
   "mimetype": "text/x-python",
   "name": "python",
   "nbconvert_exporter": "python",
   "pygments_lexer": "ipython3",
   "version": "3.10.5"
  },
  "vscode": {
   "interpreter": {
    "hash": "0dc0a185f615733f882c2e1c3521c9db19a9f3207ad5c099bb39bc5f150b7f3a"
   }
  }
 },
 "nbformat": 4,
 "nbformat_minor": 2
}
