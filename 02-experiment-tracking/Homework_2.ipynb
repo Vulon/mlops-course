{
 "cells": [
  {
   "cell_type": "code",
   "execution_count": 1,
   "id": "192410df",
   "metadata": {},
   "outputs": [],
   "source": [
    "import mlflow\n",
    "import os\n",
    "from mlflow.entities import ViewType\n",
    "from mlflow.tracking import MlflowClient"
   ]
  },
  {
   "cell_type": "code",
   "execution_count": 2,
   "id": "081a130e",
   "metadata": {},
   "outputs": [
    {
     "data": {
      "text/plain": [
       "['green_tripdata_2021-01.parquet',\n",
       " 'green_tripdata_2021-02.parquet',\n",
       " 'green_tripdata_2021-03.parquet']"
      ]
     },
     "execution_count": 2,
     "metadata": {},
     "output_type": "execute_result"
    }
   ],
   "source": [
    "os.listdir(\"data/raw\")"
   ]
  },
  {
   "cell_type": "markdown",
   "id": "974bb381",
   "metadata": {},
   "source": [
    "# Q1. Install MLflow"
   ]
  },
  {
   "cell_type": "code",
   "execution_count": 3,
   "id": "768be737",
   "metadata": {},
   "outputs": [
    {
     "name": "stdout",
     "output_type": "stream",
     "text": [
      "mlflow, version 1.26.0\n"
     ]
    }
   ],
   "source": [
    "Q1 = \"1.26.0\"\n",
    "print(f\"mlflow, version {Q1}\")"
   ]
  },
  {
   "cell_type": "markdown",
   "id": "1ae14f32",
   "metadata": {},
   "source": [
    "# Q2. Download and preprocess the data"
   ]
  },
  {
   "cell_type": "code",
   "execution_count": 11,
   "id": "2adff16c",
   "metadata": {},
   "outputs": [],
   "source": [
    "!python preprocess_data.py --raw_data_path \"data/raw\" --dest_path \"data/preprocessed\""
   ]
  },
  {
   "cell_type": "code",
   "execution_count": 4,
   "id": "37540d44",
   "metadata": {},
   "outputs": [
    {
     "name": "stdout",
     "output_type": "stream",
     "text": [
      "['dv.pkl', 'test.pkl', 'train.pkl', 'valid.pkl']\n"
     ]
    }
   ],
   "source": [
    "print(os.listdir(\"data/preprocessed\"))\n",
    "Q2 = len(os.listdir(\"data/preprocessed\"))"
   ]
  },
  {
   "cell_type": "markdown",
   "id": "5f02dbae",
   "metadata": {},
   "source": [
    "# Q3. Train a model with autolog"
   ]
  },
  {
   "cell_type": "code",
   "execution_count": 12,
   "id": "408e3445",
   "metadata": {},
   "outputs": [
    {
     "name": "stderr",
     "output_type": "stream",
     "text": [
      "2022/05/26 13:19:55 WARNING mlflow.utils.autologging_utils: MLflow autologging encountered a warning: \"c:\\PythonProjects\\mlops-course\\venv\\lib\\site-packages\\setuptools\\distutils_patch.py:25: UserWarning: Distutils was imported before Setuptools. This usage is discouraged and may exhibit undesirable behaviors or errors. Please use Setuptools' objects directly or at least import Setuptools first.\"\n",
      "2022/05/26 13:19:56 INFO mlflow.tracking.fluent: Autologging successfully enabled for sklearn.\n"
     ]
    }
   ],
   "source": [
    "!python train.py --data_path \"data/preprocessed\""
   ]
  },
  {
   "attachments": {
    "image.png": {
     "image/png": "[encoded data removed]"
    }
   },
   "cell_type": "markdown",
   "id": "1b6f6862",
   "metadata": {},
   "source": [
    "![image.png](attachment:image.png)"
   ]
  },
  {
   "cell_type": "code",
   "execution_count": 5,
   "id": "0e44caa6",
   "metadata": {},
   "outputs": [
    {
     "name": "stdout",
     "output_type": "stream",
     "text": [
      "Autolog parameters 17\n"
     ]
    }
   ],
   "source": [
    "Q3 = 17\n",
    "print(\"Autolog parameters\", Q3)"
   ]
  },
  {
   "cell_type": "markdown",
   "id": "e90dfd8d",
   "metadata": {},
   "source": [
    "# Q4. Launch the tracking server locally"
   ]
  },
  {
   "cell_type": "code",
   "execution_count": 13,
   "id": "bc8168bb",
   "metadata": {},
   "outputs": [
    {
     "name": "stdout",
     "output_type": "stream",
     "text": [
      "CLI argument for specifying artifacts folder:  default-artifact-root\n"
     ]
    }
   ],
   "source": [
    "\"mlflow server --backend-store-uri sqlite:///mlflow.db --default-artifact-root artifacts\"\n",
    "Q4 = \"default-artifact-root\"\n",
    "print(\"CLI argument for specifying artifacts folder: \", Q4)"
   ]
  },
  {
   "cell_type": "markdown",
   "id": "64425cfc",
   "metadata": {},
   "source": [
    "# Q5. Tune the hyperparameters of the model"
   ]
  },
  {
   "cell_type": "code",
   "execution_count": 48,
   "id": "637dcfb0",
   "metadata": {},
   "outputs": [
    {
     "name": "stdout",
     "output_type": "stream",
     "text": [
      "\n",
      "  0%|          | 0/50 [00:00<?, ?trial/s, best loss=?]\n",
      "  2%|▏         | 1/50 [00:09<07:39,  9.37s/trial, best loss: 6.658956269343007]\n",
      "  4%|▍         | 2/50 [00:09<03:20,  4.17s/trial, best loss: 6.658956269343007]\n",
      "  6%|▌         | 3/50 [00:10<02:02,  2.62s/trial, best loss: 6.658956269343007]\n",
      "  8%|▊         | 4/50 [00:17<03:11,  4.16s/trial, best loss: 6.651438559376775]\n",
      " 10%|█         | 5/50 [00:20<02:49,  3.76s/trial, best loss: 6.651438559376775]\n",
      " 12%|█▏        | 6/50 [00:30<04:21,  5.95s/trial, best loss: 6.651438559376775]\n",
      " 14%|█▍        | 7/50 [00:40<05:11,  7.24s/trial, best loss: 6.651438559376775]\n",
      " 16%|█▌        | 8/50 [00:41<03:42,  5.30s/trial, best loss: 6.651438559376775]\n",
      " 18%|█▊        | 9/50 [00:47<03:50,  5.62s/trial, best loss: 6.651438559376775]\n",
      " 20%|██        | 10/50 [00:52<03:38,  5.46s/trial, best loss: 6.651438559376775]\n",
      " 22%|██▏       | 11/50 [00:56<03:14,  5.00s/trial, best loss: 6.642137287429206]\n",
      " 24%|██▍       | 12/50 [01:00<02:53,  4.57s/trial, best loss: 6.642137287429206]\n",
      " 26%|██▌       | 13/50 [01:01<02:11,  3.56s/trial, best loss: 6.642137287429206]\n",
      " 28%|██▊       | 14/50 [01:05<02:12,  3.68s/trial, best loss: 6.642137287429206]\n",
      " 30%|███       | 15/50 [01:12<02:37,  4.49s/trial, best loss: 6.642137287429206]\n",
      " 32%|███▏      | 16/50 [01:15<02:25,  4.28s/trial, best loss: 6.642137287429206]\n",
      " 34%|███▍      | 17/50 [01:21<02:37,  4.77s/trial, best loss: 6.642137287429206]\n",
      " 36%|███▌      | 18/50 [01:31<03:19,  6.23s/trial, best loss: 6.629728007710133]\n",
      " 38%|███▊      | 19/50 [01:33<02:37,  5.09s/trial, best loss: 6.629728007710133]\n",
      " 40%|████      | 20/50 [01:35<02:02,  4.08s/trial, best loss: 6.629728007710133]\n",
      " 42%|████▏     | 21/50 [01:48<03:19,  6.88s/trial, best loss: 6.629728007710133]\n",
      " 44%|████▍     | 22/50 [01:59<03:40,  7.89s/trial, best loss: 6.629728007710133]\n",
      " 46%|████▌     | 23/50 [02:15<04:42, 10.45s/trial, best loss: 6.629728007710133]\n",
      " 48%|████▊     | 24/50 [02:29<04:59, 11.54s/trial, best loss: 6.629728007710133]\n",
      " 50%|█████     | 25/50 [02:39<04:39, 11.16s/trial, best loss: 6.629728007710133]\n",
      " 52%|█████▏    | 26/50 [02:50<04:22, 10.96s/trial, best loss: 6.629728007710133]\n",
      " 54%|█████▍    | 27/50 [02:56<03:39,  9.52s/trial, best loss: 6.629728007710133]\n",
      " 56%|█████▌    | 28/50 [03:09<03:50, 10.49s/trial, best loss: 6.629728007710133]\n",
      " 58%|█████▊    | 29/50 [03:12<02:56,  8.41s/trial, best loss: 6.629728007710133]\n",
      " 60%|██████    | 30/50 [03:24<03:09,  9.46s/trial, best loss: 6.629728007710133]\n",
      " 62%|██████▏   | 31/50 [03:25<02:09,  6.81s/trial, best loss: 6.629728007710133]\n",
      " 64%|██████▍   | 32/50 [03:32<02:04,  6.91s/trial, best loss: 6.629728007710133]\n",
      " 66%|██████▌   | 33/50 [03:45<02:26,  8.61s/trial, best loss: 6.629728007710133]\n",
      " 68%|██████▊   | 34/50 [03:56<02:28,  9.31s/trial, best loss: 6.6284257482044735]\n",
      " 70%|███████   | 35/50 [04:01<02:02,  8.17s/trial, best loss: 6.6284257482044735]\n",
      " 72%|███████▏  | 36/50 [04:07<01:46,  7.64s/trial, best loss: 6.6284257482044735]\n",
      " 74%|███████▍  | 37/50 [04:08<01:10,  5.43s/trial, best loss: 6.6284257482044735]\n",
      " 76%|███████▌  | 38/50 [04:15<01:12,  6.08s/trial, best loss: 6.6284257482044735]\n",
      " 78%|███████▊  | 39/50 [04:25<01:18,  7.10s/trial, best loss: 6.6284257482044735]\n",
      " 80%|████████  | 40/50 [04:35<01:19,  7.91s/trial, best loss: 6.6284257482044735]\n",
      " 82%|████████▏ | 41/50 [04:36<00:54,  6.05s/trial, best loss: 6.6284257482044735]\n",
      " 84%|████████▍ | 42/50 [04:40<00:43,  5.48s/trial, best loss: 6.6284257482044735]\n",
      " 86%|████████▌ | 43/50 [04:49<00:43,  6.27s/trial, best loss: 6.6284257482044735]\n",
      " 88%|████████▊ | 44/50 [04:57<00:40,  6.80s/trial, best loss: 6.6284257482044735]\n",
      " 90%|█████████ | 45/50 [05:01<00:29,  5.92s/trial, best loss: 6.6284257482044735]\n",
      " 92%|█████████▏| 46/50 [05:02<00:18,  4.56s/trial, best loss: 6.6284257482044735]\n",
      " 94%|█████████▍| 47/50 [05:09<00:15,  5.18s/trial, best loss: 6.6284257482044735]\n",
      " 96%|█████████▌| 48/50 [05:12<00:09,  4.58s/trial, best loss: 6.6284257482044735]\n",
      " 98%|█████████▊| 49/50 [05:17<00:04,  4.90s/trial, best loss: 6.6284257482044735]\n",
      "100%|██████████| 50/50 [05:24<00:00,  5.55s/trial, best loss: 6.6284257482044735]\n",
      "100%|██████████| 50/50 [05:24<00:00,  6.50s/trial, best loss: 6.6284257482044735]\n"
     ]
    }
   ],
   "source": [
    "!python hpo.py --data_path \"data/preprocessed\""
   ]
  },
  {
   "attachments": {
    "image.png": {
     "image/png": "[encoded data removed]"
    }
   },
   "cell_type": "markdown",
   "id": "71367a9c",
   "metadata": {},
   "source": [
    "![image.png](attachment:image.png)"
   ]
  },
  {
   "cell_type": "code",
   "execution_count": 37,
   "id": "94d2cd76",
   "metadata": {},
   "outputs": [
    {
     "name": "stdout",
     "output_type": "stream",
     "text": [
      "Minimal Validation loss is 6.6284257482044735\n"
     ]
    }
   ],
   "source": [
    "HPO_EXPERIMENT_NAME = \"random-forest-hyperopt\"\n",
    "EXPERIMENT_NAME = \"random-forest-best-models\"\n",
    "\n",
    "mlflow.set_tracking_uri(\"http://127.0.0.1:5000\")\n",
    "mlflow.set_experiment(EXPERIMENT_NAME)\n",
    "experiment = client.get_experiment_by_name(HPO_EXPERIMENT_NAME)\n",
    "\n",
    "client = MlflowClient()\n",
    "runs = client.search_runs(\n",
    "    experiment_ids=experiment.experiment_id,\n",
    "    run_view_type=ViewType.ACTIVE_ONLY,\n",
    "    max_results=1,\n",
    "    order_by=[\"metrics.Validation_RMSE ASC\"]\n",
    ")\n",
    "\n",
    "Q5 = runs[0].data.metrics[\"Validation_RMSE\"]\n",
    "print(\"Minimal Validation loss is\", Q5)"
   ]
  },
  {
   "cell_type": "markdown",
   "id": "e3961b08",
   "metadata": {},
   "source": [
    "# Q6. Promote the best model to the model registry"
   ]
  },
  {
   "cell_type": "code",
   "execution_count": 49,
   "id": "fa63d9e0",
   "metadata": {},
   "outputs": [
    {
     "name": "stderr",
     "output_type": "stream",
     "text": [
      "2022/05/26 16:30:08 WARNING mlflow.utils.autologging_utils: MLflow autologging encountered a warning: \"c:\\PythonProjects\\mlops-course\\venv\\lib\\site-packages\\setuptools\\distutils_patch.py:25: UserWarning: Distutils was imported before Setuptools. This usage is discouraged and may exhibit undesirable behaviors or errors. Please use Setuptools' objects directly or at least import Setuptools first.\"\n",
      "Registered model 'random-forest-reg' already exists. Creating a new version of this model...\n",
      "2022/05/26 16:31:15 INFO mlflow.tracking._model_registry.client: Waiting up to 300 seconds for model version to finish creation.                     Model name: random-forest-reg, version 2\n",
      "Created version '2' of model 'random-forest-reg'.\n"
     ]
    }
   ],
   "source": [
    "!python register_model.py --data_path \"data/preprocessed\""
   ]
  },
  {
   "cell_type": "code",
   "execution_count": 54,
   "id": "2b37ea4f",
   "metadata": {},
   "outputs": [
    {
     "name": "stdout",
     "output_type": "stream",
     "text": [
      "Test RMSE 6.547886185595423\n"
     ]
    }
   ],
   "source": [
    "last_experiment = client.get_experiment_by_name(EXPERIMENT_NAME)\n",
    "best_run = client.search_runs(\n",
    "    experiment_ids=last_experiment.experiment_id,\n",
    "    run_view_type=ViewType.ACTIVE_ONLY,\n",
    "    max_results=1,\n",
    "    order_by=[\"metrics.Test_RMSE ASC\"]\n",
    ")[0]\n",
    "Q6 = best_run.data.metrics[\"Test_RMSE\"]\n",
    "print(\"Test RMSE\", Q6)"
   ]
  },
  {
   "cell_type": "code",
   "execution_count": null,
   "id": "2309f708",
   "metadata": {},
   "outputs": [],
   "source": []
  },
  {
   "cell_type": "code",
   "execution_count": null,
   "id": "0bb8aa62",
   "metadata": {},
   "outputs": [],
   "source": []
  },
  {
   "cell_type": "code",
   "execution_count": 55,
   "id": "17b8bc4f",
   "metadata": {},
   "outputs": [
    {
     "name": "stdout",
     "output_type": "stream",
     "text": [
      "Results:\n",
      "Q1 1.26.0\n",
      "Q2 4\n",
      "Q3 17\n",
      "Q4 default-artifact-root\n",
      "Q5 6.6284257482044735\n",
      "Q6 6.547886185595423\n"
     ]
    }
   ],
   "source": [
    "print(\"Results:\")\n",
    "print(\"Q1\", Q1)\n",
    "print(\"Q2\", Q2)\n",
    "print(\"Q3\", Q3)\n",
    "print(\"Q4\", Q4)\n",
    "print(\"Q5\", Q5)\n",
    "print(\"Q6\", Q6)"
   ]
  },
  {
   "cell_type": "code",
   "execution_count": null,
   "id": "e8827b84",
   "metadata": {},
   "outputs": [],
   "source": []
  }
 ],
 "metadata": {
  "kernelspec": {
   "display_name": "mlops",
   "language": "python",
   "name": "mlops"
  },
  "language_info": {
   "codemirror_mode": {
    "name": "ipython",
    "version": 3
   },
   "file_extension": ".py",
   "mimetype": "text/x-python",
   "name": "python",
   "nbconvert_exporter": "python",
   "pygments_lexer": "ipython3",
   "version": "3.8.8"
  }
 },
 "nbformat": 4,
 "nbformat_minor": 5
}
