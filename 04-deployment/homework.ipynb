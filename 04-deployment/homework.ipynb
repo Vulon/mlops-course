{
 "cells": [
  {
   "cell_type": "code",
   "execution_count": 1,
   "metadata": {},
   "outputs": [],
   "source": [
    "import numpy as np\n",
    "import pandas as pd\n",
    "import os\n",
    "import json\n"
   ]
  },
  {
   "cell_type": "code",
   "execution_count": 2,
   "metadata": {},
   "outputs": [],
   "source": [
    "answers = dict()"
   ]
  },
  {
   "cell_type": "markdown",
   "metadata": {},
   "source": [
    "# Q1. Notebook"
   ]
  },
  {
   "cell_type": "code",
   "execution_count": 12,
   "metadata": {},
   "outputs": [
    {
     "name": "stdout",
     "output_type": "stream",
     "text": [
      "Q1 mean prediction: 16.191691679979066\n"
     ]
    }
   ],
   "source": [
    "df = pd.read_parquet(\"data/fhv_tripdata_2021-02_prediction.parquet\")\n",
    "answers[\"Q1\"] = df['prediction'].mean()\n",
    "print(\"Q1\", \"mean prediction:\",  answers[\"Q1\"])"
   ]
  },
  {
   "cell_type": "markdown",
   "metadata": {},
   "source": [
    "# Q2. Preparing the output"
   ]
  },
  {
   "cell_type": "code",
   "execution_count": 16,
   "metadata": {},
   "outputs": [
    {
     "name": "stdout",
     "output_type": "stream",
     "text": [
      "Q2 filesize with columns 'ride_id and predictions': 18.79828929901123\n"
     ]
    }
   ],
   "source": [
    "answers[\"Q2\"] = os.stat(\"data/fhv_tripdata_2021-02_prediction.parquet\").st_size / 1024 / 1024\n",
    "print(\"Q2\", \"filesize with columns 'ride_id and predictions':\", answers[\"Q2\"])"
   ]
  },
  {
   "cell_type": "markdown",
   "metadata": {},
   "source": [
    "# Q3. Creating the scoring script"
   ]
  },
  {
   "cell_type": "code",
   "execution_count": 18,
   "metadata": {},
   "outputs": [
    {
     "name": "stdout",
     "output_type": "stream",
     "text": [
      "Q3 convert jupyter notebook to python:  jupyter nbconvert --to script starter.ipynb\n"
     ]
    },
    {
     "name": "stderr",
     "output_type": "stream",
     "text": [
      "[NbConvertApp] Converting notebook starter.ipynb to script\n",
      "[NbConvertApp] Writing 1088 bytes to starter.py\n"
     ]
    }
   ],
   "source": [
    "answers[\"Q3\"] = \"jupyter nbconvert --to script starter.ipynb\"\n",
    "!jupyter nbconvert --to script starter.ipynb\n",
    "print(\"Q3\", \"convert jupyter notebook to python: \", answers['Q3'])"
   ]
  },
  {
   "cell_type": "markdown",
   "metadata": {},
   "source": [
    "# Q4. Virtual environment"
   ]
  },
  {
   "cell_type": "code",
   "execution_count": 25,
   "metadata": {},
   "outputs": [
    {
     "name": "stdout",
     "output_type": "stream",
     "text": [
      "Q4 first hash for the scikit-learn version sha256:0403ad13f283e27d43b0ad875f187ec7f5d964903d92d1ed06c51439560ecea0\n"
     ]
    }
   ],
   "source": [
    "\n",
    "with open(\"Pipfile.lock\", 'r') as lock_file:\n",
    "    lock_json = json.load(lock_file)\n",
    "answers[\"Q4\"] = lock_json[\"default\"][\"scikit-learn\"]['hashes'][0]\n",
    "print(\"Q4\", \"first hash for the scikit-learn version\", answers[\"Q4\"])"
   ]
  },
  {
   "cell_type": "markdown",
   "metadata": {},
   "source": [
    "# Q5. Parametrize the script"
   ]
  },
  {
   "cell_type": "code",
   "execution_count": 26,
   "metadata": {},
   "outputs": [
    {
     "name": "stdout",
     "output_type": "stream",
     "text": [
      "Loading data:\n",
      "Mean duration prediction 16.298821614015107\n"
     ]
    }
   ],
   "source": [
    "!python predict.py --year 2021 --month 03\n",
    "answers[\"Q5\"] = 16.298821614015107"
   ]
  },
  {
   "cell_type": "markdown",
   "metadata": {},
   "source": [
    "# Q6. Docker contaner"
   ]
  },
  {
   "cell_type": "code",
   "execution_count": 3,
   "metadata": {},
   "outputs": [
    {
     "name": "stdout",
     "output_type": "stream",
     "text": [
      "Loading data:\n",
      "Mean duration prediction 9.967573179784523\n"
     ]
    }
   ],
   "source": [
    "!docker run mlops_zoomcamp:0.2 python predict.py --year 2021 --month 4\n",
    "answers[\"Q6\"] = 9.967573179784523"
   ]
  },
  {
   "cell_type": "code",
   "execution_count": 5,
   "metadata": {},
   "outputs": [
    {
     "name": "stdout",
     "output_type": "stream",
     "text": [
      "Q1  -  16.191691679979066\n",
      "Q2  -  18.79828929901123\n",
      "Q3  -  jupyter nbconvert --to script starter.ipynb\n",
      "Q4  -  sha256:0403ad13f283e27d43b0ad875f187ec7f5d964903d92d1ed06c51439560ecea0\n",
      "Q5  -  16.298821614015107\n",
      "Q6  -  9.967573179784523\n"
     ]
    }
   ],
   "source": [
    "for key in sorted(answers.keys()):\n",
    "    print(key, \" - \", answers[key])"
   ]
  },
  {
   "cell_type": "code",
   "execution_count": null,
   "metadata": {},
   "outputs": [],
   "source": []
  }
 ],
 "metadata": {
  "kernelspec": {
   "display_name": "Python 3.8.8 ('venv': venv)",
   "language": "python",
   "name": "python3"
  },
  "language_info": {
   "codemirror_mode": {
    "name": "ipython",
    "version": 3
   },
   "file_extension": ".py",
   "mimetype": "text/x-python",
   "name": "python",
   "nbconvert_exporter": "python",
   "pygments_lexer": "ipython3",
   "version": "3.8.8"
  },
  "orig_nbformat": 4,
  "vscode": {
   "interpreter": {
    "hash": "0dc0a185f615733f882c2e1c3521c9db19a9f3207ad5c099bb39bc5f150b7f3a"
   }
  }
 },
 "nbformat": 4,
 "nbformat_minor": 2
}
